{
 "cells": [
  {
   "cell_type": "markdown",
   "id": "d1a68fb2",
   "metadata": {},
   "source": [
    "# Proyecto 2\n",
    "## Integrantes: \n",
    "    - Francis Aguilar #22243\n",
    "    - Gerardo Pineda #22808\n",
    "    - Paula Barillas #22764\n",
    "    - Angela Garcia #22869"
   ]
  },
  {
   "cell_type": "markdown",
   "id": "a1d19829",
   "metadata": {},
   "source": [
    "### a) Calcular el costo de acceso utilizando el algoritmo MTF\n",
    "- Lista de configuración: 0, 1, 2, 3, 4\n",
    "- Secuencia de solicitudes: 0, 1, 2, 3, 4, 0, 1, 2, 3, 4, 0, 1, 2, 3, 4, 0, 1, 2, 3, 4"
   ]
  },
  {
   "cell_type": "markdown",
   "id": "96775b2c",
   "metadata": {},
   "source": [
    "### MTF"
   ]
  },
  {
   "cell_type": "code",
   "execution_count": 1,
   "id": "be119d66",
   "metadata": {},
   "outputs": [],
   "source": [
    "def calcular_costo_mtf(lista: list , solicitudes: list) -> int:\n",
    "    \"\"\"\n",
    "    Calcula el costo total de acceder a los elementos de una lista siguiendo la estrategia Move-To-Front (MTF).\n",
    "\n",
    "    En esta estrategia, cada vez que un elemento es accedido, se mueve al frente de la lista.\n",
    "    El costo de acceder a un elemento es su posición actual en la lista (comenzando desde 1).\n",
    "\n",
    "    Parámetros:\n",
    "        lista (list): Lista inicial de elementos.\n",
    "        solicitudes (list): Secuencia de elementos a ser accedidos.\n",
    "\n",
    "    Retorna:\n",
    "        int: Costo acumulado total de todas las solicitudes.\n",
    "    \"\"\"\n",
    "\n",
    "    print(f\"Lista inicial: {lista}\")\n",
    "    lista_configuracion = lista\n",
    "    print(f\"Solicitudes: {solicitudes}\\n\")\n",
    "    print(f\"{'Solicitud':<12}{'Costo':<12}{'Lista configuracion':<25}{'Lista después'}\")\n",
    "    print(\"-\" * 70)\n",
    "    \n",
    "    costo_total = 0\n",
    "    for elemento in solicitudes:\n",
    "        posicion = lista.index(elemento)\n",
    "        costo = posicion + 1\n",
    "        costo_total += costo\n",
    "\n",
    "        # Mover el elemento al frente\n",
    "        lista.pop(posicion)\n",
    "        lista.insert(0, elemento)\n",
    "\n",
    "        print(f\"{str(elemento):<12}{str(costo):<12}{str(lista_configuracion):<20}->   {str(lista):<12}\")\n",
    "    \n",
    "    print(f\"\\nCosto acumulado total: {costo_total}\")\n",
    "    return costo_total\n",
    "\n",
    "\n",
    "def secuencia_minima(lista_base: list, cantidad: int) -> list:\n",
    "    \"\"\"\n",
    "    Genera una secuencia de solicitudes que genera el menor costo posible usando MTF.\n",
    "\n",
    "    La secuencia consiste en repetir el primer elemento de la lista base, lo cual\n",
    "    siempre tendrá un costo de 1 después de la primera vez que se mueva al frente.\n",
    "\n",
    "    Parámetros:\n",
    "        lista_base (list): Lista inicial de elementos.\n",
    "        cantidad (int): Número de elementos en la secuencia de solicitudes.\n",
    "\n",
    "    Retorna:\n",
    "        list: Secuencia que minimiza el costo.\n",
    "    \"\"\"\n",
    "    secuencia = [lista_base[0]] * cantidad\n",
    "    print(f\"Secuencia con menor costo generada: {secuencia} (longitud: {cantidad})\")\n",
    "    return secuencia\n",
    "\n",
    "\n",
    "def secuencia_maxima(lista_base: list, cantidad: int)-> list:\n",
    "    \"\"\"\n",
    "    Genera una secuencia de solicitudes que produce el mayor costo posible usando MTF.\n",
    "\n",
    "    Esto se logra accediendo repetidamente al último elemento de la lista,\n",
    "    que se mueve al frente después de cada acceso.\n",
    "\n",
    "    Parámetros:\n",
    "        lista_base (list): Lista inicial de elementos.\n",
    "        cantidad (int): Número de elementos en la secuencia de solicitudes.\n",
    "\n",
    "    Retorna:\n",
    "        list: Secuencia que maximiza el costo.\n",
    "    \"\"\"\n",
    "    secuencia = []\n",
    "    lista_temporal = lista_base[:]\n",
    "\n",
    "    for _ in range(cantidad):\n",
    "        ultimo = lista_temporal[-1]\n",
    "        secuencia.append(ultimo)\n",
    "\n",
    "        # Rotar el último al frente\n",
    "        lista_temporal.insert(0, lista_temporal.pop())\n",
    "\n",
    "    print(f\"Secuencia con mayor costo generada: {secuencia} (longitud: {cantidad})\")\n",
    "    return secuencia\n"
   ]
  },
  {
   "cell_type": "markdown",
   "id": "74028e91",
   "metadata": {},
   "source": [
    "\n",
    "## **A) Calcular el costo de acceso utilizando el algoritmo MTF para**\n",
    "    \n",
    "a. Lista de configuración: \n",
    "`0, 1, 2, 3, 4`\n",
    "\n",
    "b. Secuencia de solicitudes: \n",
    "`0, 1, 2, 3, 4, 0, 1, 2, 3, 4, 0, 1, 2, 3, 4, 0, 1, 2, 3, 4`\n",
    "    \n",
    "Imprima la lista de configuración, la solicitud, su costo y la configuración de la lista aplicando MTF por cada solicitud en la secuencia y, al final, imprima el costo total de los accesos."
   ]
  },
  {
   "cell_type": "code",
   "execution_count": 2,
   "id": "1d94cfc6",
   "metadata": {},
   "outputs": [
    {
     "name": "stdout",
     "output_type": "stream",
     "text": [
      "Lista inicial: [0, 1, 2, 3, 4]\n",
      "Solicitudes: [0, 1, 2, 3, 4, 0, 1, 2, 3, 4, 0, 1, 2, 3, 4, 0, 1, 2, 3, 4]\n",
      "\n",
      "Solicitud   Costo       Lista configuracion      Lista después\n",
      "----------------------------------------------------------------------\n",
      "0           1           [0, 1, 2, 3, 4]     ->   [0, 1, 2, 3, 4]\n",
      "1           2           [1, 0, 2, 3, 4]     ->   [1, 0, 2, 3, 4]\n",
      "2           3           [2, 1, 0, 3, 4]     ->   [2, 1, 0, 3, 4]\n",
      "3           4           [3, 2, 1, 0, 4]     ->   [3, 2, 1, 0, 4]\n",
      "4           5           [4, 3, 2, 1, 0]     ->   [4, 3, 2, 1, 0]\n",
      "0           5           [0, 4, 3, 2, 1]     ->   [0, 4, 3, 2, 1]\n",
      "1           5           [1, 0, 4, 3, 2]     ->   [1, 0, 4, 3, 2]\n",
      "2           5           [2, 1, 0, 4, 3]     ->   [2, 1, 0, 4, 3]\n",
      "3           5           [3, 2, 1, 0, 4]     ->   [3, 2, 1, 0, 4]\n",
      "4           5           [4, 3, 2, 1, 0]     ->   [4, 3, 2, 1, 0]\n",
      "0           5           [0, 4, 3, 2, 1]     ->   [0, 4, 3, 2, 1]\n",
      "1           5           [1, 0, 4, 3, 2]     ->   [1, 0, 4, 3, 2]\n",
      "2           5           [2, 1, 0, 4, 3]     ->   [2, 1, 0, 4, 3]\n",
      "3           5           [3, 2, 1, 0, 4]     ->   [3, 2, 1, 0, 4]\n",
      "4           5           [4, 3, 2, 1, 0]     ->   [4, 3, 2, 1, 0]\n",
      "0           5           [0, 4, 3, 2, 1]     ->   [0, 4, 3, 2, 1]\n",
      "1           5           [1, 0, 4, 3, 2]     ->   [1, 0, 4, 3, 2]\n",
      "2           5           [2, 1, 0, 4, 3]     ->   [2, 1, 0, 4, 3]\n",
      "3           5           [3, 2, 1, 0, 4]     ->   [3, 2, 1, 0, 4]\n",
      "4           5           [4, 3, 2, 1, 0]     ->   [4, 3, 2, 1, 0]\n",
      "\n",
      "Costo acumulado total: 90\n"
     ]
    }
   ],
   "source": [
    "config = [0, 1, 2, 3, 4]\n",
    "sequence = [0, 1, 2, 3, 4, 0, 1, 2, 3, 4, 0, 1, 2, 3, 4, 0, 1, 2, 3, 4]\n",
    "cost = calcular_costo_mtf(config, sequence)"
   ]
  },
  {
   "cell_type": "markdown",
   "id": "561f2a3b",
   "metadata": {},
   "source": [
    "---\n",
    "## **B) Calcular el costo de acceso utilizando el algoritmo MTF para**"
   ]
  },
  {
   "cell_type": "markdown",
   "id": "5c740906",
   "metadata": {},
   "source": [
    "    \n",
    "a. Lista de configuración: \n",
    "`0, 1, 2, 3, 4`\n",
    "    \n",
    "b. Secuencia de solicitudes: \n",
    "`4, 3, 2, 1, 0, 1, 2, 3, 4, 3, 2, 1, 0, 1, 2, 3, 4`\n",
    "    \n",
    "Imprima la lista de configuración, la solicitud, su costo y la configuración de la lista aplicando MTF por cada solicitud en la secuencia y, al final, imprima el costo total de los accesos."
   ]
  },
  {
   "cell_type": "code",
   "execution_count": 3,
   "id": "ce88b17f",
   "metadata": {},
   "outputs": [
    {
     "name": "stdout",
     "output_type": "stream",
     "text": [
      "Lista inicial: [0, 1, 2, 3, 4]\n",
      "Solicitudes: [4, 3, 2, 1, 0, 1, 2, 3, 4, 3, 2, 1, 0, 1, 2, 3, 4]\n",
      "\n",
      "Solicitud   Costo       Lista configuracion      Lista después\n",
      "----------------------------------------------------------------------\n",
      "4           5           [4, 0, 1, 2, 3]     ->   [4, 0, 1, 2, 3]\n",
      "3           5           [3, 4, 0, 1, 2]     ->   [3, 4, 0, 1, 2]\n",
      "2           5           [2, 3, 4, 0, 1]     ->   [2, 3, 4, 0, 1]\n",
      "1           5           [1, 2, 3, 4, 0]     ->   [1, 2, 3, 4, 0]\n",
      "0           5           [0, 1, 2, 3, 4]     ->   [0, 1, 2, 3, 4]\n",
      "1           2           [1, 0, 2, 3, 4]     ->   [1, 0, 2, 3, 4]\n",
      "2           3           [2, 1, 0, 3, 4]     ->   [2, 1, 0, 3, 4]\n",
      "3           4           [3, 2, 1, 0, 4]     ->   [3, 2, 1, 0, 4]\n",
      "4           5           [4, 3, 2, 1, 0]     ->   [4, 3, 2, 1, 0]\n",
      "3           2           [3, 4, 2, 1, 0]     ->   [3, 4, 2, 1, 0]\n",
      "2           3           [2, 3, 4, 1, 0]     ->   [2, 3, 4, 1, 0]\n",
      "1           4           [1, 2, 3, 4, 0]     ->   [1, 2, 3, 4, 0]\n",
      "0           5           [0, 1, 2, 3, 4]     ->   [0, 1, 2, 3, 4]\n",
      "1           2           [1, 0, 2, 3, 4]     ->   [1, 0, 2, 3, 4]\n",
      "2           3           [2, 1, 0, 3, 4]     ->   [2, 1, 0, 3, 4]\n",
      "3           4           [3, 2, 1, 0, 4]     ->   [3, 2, 1, 0, 4]\n",
      "4           5           [4, 3, 2, 1, 0]     ->   [4, 3, 2, 1, 0]\n",
      "\n",
      "Costo acumulado total: 67\n"
     ]
    }
   ],
   "source": [
    "config = [0, 1, 2, 3, 4]\n",
    "sequence= [4, 3, 2, 1, 0, 1, 2, 3, 4, 3, 2, 1, 0, 1, 2, 3, 4]\n",
    "costo = calcular_costo_mtf(config, sequence)"
   ]
  },
  {
   "cell_type": "code",
   "execution_count": 4,
   "id": "9a2f8c61",
   "metadata": {},
   "outputs": [
    {
     "name": "stdout",
     "output_type": "stream",
     "text": [
      "Solicitud   Costo       Lista configuracion      Lista después\n",
      "----------------------------------------------------------------------\n",
      "4           5           [0, 1, 2, 3, 4]     ->  [4, 0, 1, 2, 3]\n",
      "3           5           [4, 0, 1, 2, 3]     ->  [3, 4, 0, 1, 2]\n",
      "2           5           [3, 4, 0, 1, 2]     ->  [2, 3, 4, 0, 1]\n",
      "1           5           [2, 3, 4, 0, 1]     ->  [1, 2, 3, 4, 0]\n",
      "0           5           [1, 2, 3, 4, 0]     ->  [0, 1, 2, 3, 4]\n",
      "1           2           [0, 1, 2, 3, 4]     ->  [1, 0, 2, 3, 4]\n",
      "2           3           [1, 0, 2, 3, 4]     ->  [2, 1, 0, 3, 4]\n",
      "3           4           [2, 1, 0, 3, 4]     ->  [3, 2, 1, 0, 4]\n",
      "4           5           [3, 2, 1, 0, 4]     ->  [4, 3, 2, 1, 0]\n",
      "3           2           [4, 3, 2, 1, 0]     ->  [3, 4, 2, 1, 0]\n",
      "2           3           [3, 4, 2, 1, 0]     ->  [2, 3, 4, 1, 0]\n",
      "1           4           [2, 3, 4, 1, 0]     ->  [1, 2, 3, 4, 0]\n",
      "0           5           [1, 2, 3, 4, 0]     ->  [0, 1, 2, 3, 4]\n",
      "1           2           [0, 1, 2, 3, 4]     ->  [1, 0, 2, 3, 4]\n",
      "2           3           [1, 0, 2, 3, 4]     ->  [2, 1, 0, 3, 4]\n",
      "3           4           [2, 1, 0, 3, 4]     ->  [3, 2, 1, 0, 4]\n",
      "4           5           [3, 2, 1, 0, 4]     ->  [4, 3, 2, 1, 0]\n",
      "\n",
      "Costo total de accesos: 67\n"
     ]
    }
   ],
   "source": [
    "def move_to_frontb(config_list: list, request_sequence: list) -> int:\n",
    "    \"\"\"\n",
    "    Calcula el costo total de una secuencia de accesos utilizando el algoritmo Move-To-Front (MTF).\n",
    "\n",
    "    En MTF, cada vez que un elemento es accedido, se mueve al inicio de la lista. \n",
    "    El costo de acceder a un elemento es su posición actual en la lista (empezando desde 1).\n",
    "\n",
    "    Parámetros:\n",
    "        config_list (list): Lista inicial de configuración (será modificada a lo largo del proceso).\n",
    "        request_sequence (list): Lista de elementos a solicitar en orden.\n",
    "\n",
    "    Retorna:\n",
    "        int: El costo total acumulado de los accesos.\n",
    "    \"\"\"\n",
    "    total_cost = 0\n",
    "    \n",
    "    print(f\"{'Solicitud':<12}{'Costo':<12}{'Lista configuracion':<25}{'Lista después'}\")\n",
    "    print(\"-\" * 70)\n",
    "    \n",
    "    for request in request_sequence:\n",
    "        # Encontrar posicion actual del elemento\n",
    "        index = config_list.index(request)\n",
    "        cost = index + 1  # Costo = posición (1-indexado)\n",
    "        total_cost += cost\n",
    "\n",
    "        # print(f\"{str(config_list):<25}{request:<10}{cost:<8}\", end=\"\")\n",
    "        print(f\"{str(request):<12}{str(cost):<12}{str(config_list):<20}->  \",  end=\"\")\n",
    "        \n",
    "        # Mover elemento al frente\n",
    "        elemento = config_list.pop(index)\n",
    "        config_list.insert(0, elemento)\n",
    "        \n",
    "        print(config_list)\n",
    "    \n",
    "    print(f\"\\nCosto total de accesos: {total_cost}\")\n",
    "    return total_cost\n",
    "\n",
    "configuracion = [0, 1, 2, 3, 4]\n",
    "secuencia = [4, 3, 2, 1, 0, 1, 2, 3, 4, 3, 2, 1, 0, 1, 2, 3, 4]\n",
    "\n",
    "costo_b = move_to_frontb(configuracion, secuencia)"
   ]
  },
  {
   "cell_type": "markdown",
   "id": "7cc2a9c2",
   "metadata": {},
   "source": [
    "## **C) ¿Para qué secuencia de 20 solicitudes se obtiene el mínimo costo total de acceso utilizando el algoritmo MTF para la configuración 0, 1, 2, 3, 4? ¿Cuál sería ese costo total de acceso?**"
   ]
  },
  {
   "cell_type": "markdown",
   "id": "879856a5",
   "metadata": {},
   "source": [
    "El algoritmo MTF da el costo mínimo cuando todos los elementos de la secuencia de solicitudes se acceden como el primer elemento de la lista. El costo total de acceso es igual a `n`, donde `n` es el tamaño de la secuencia de solicitudes."
   ]
  },
  {
   "cell_type": "code",
   "execution_count": 5,
   "id": "4dd98374",
   "metadata": {},
   "outputs": [
    {
     "name": "stdout",
     "output_type": "stream",
     "text": [
      "Secuencia con menor costo generada: [0, 0, 0, 0, 0, 0, 0, 0, 0, 0, 0, 0, 0, 0, 0, 0, 0, 0, 0, 0] (longitud: 20)\n",
      "\n",
      "Lista inicial: [0, 1, 2, 3, 4]\n",
      "Solicitudes: [0, 0, 0, 0, 0, 0, 0, 0, 0, 0, 0, 0, 0, 0, 0, 0, 0, 0, 0, 0]\n",
      "\n",
      "Solicitud   Costo       Lista configuracion      Lista después\n",
      "----------------------------------------------------------------------\n",
      "0           1           [0, 1, 2, 3, 4]     ->   [0, 1, 2, 3, 4]\n",
      "0           1           [0, 1, 2, 3, 4]     ->   [0, 1, 2, 3, 4]\n",
      "0           1           [0, 1, 2, 3, 4]     ->   [0, 1, 2, 3, 4]\n",
      "0           1           [0, 1, 2, 3, 4]     ->   [0, 1, 2, 3, 4]\n",
      "0           1           [0, 1, 2, 3, 4]     ->   [0, 1, 2, 3, 4]\n",
      "0           1           [0, 1, 2, 3, 4]     ->   [0, 1, 2, 3, 4]\n",
      "0           1           [0, 1, 2, 3, 4]     ->   [0, 1, 2, 3, 4]\n",
      "0           1           [0, 1, 2, 3, 4]     ->   [0, 1, 2, 3, 4]\n",
      "0           1           [0, 1, 2, 3, 4]     ->   [0, 1, 2, 3, 4]\n",
      "0           1           [0, 1, 2, 3, 4]     ->   [0, 1, 2, 3, 4]\n",
      "0           1           [0, 1, 2, 3, 4]     ->   [0, 1, 2, 3, 4]\n",
      "0           1           [0, 1, 2, 3, 4]     ->   [0, 1, 2, 3, 4]\n",
      "0           1           [0, 1, 2, 3, 4]     ->   [0, 1, 2, 3, 4]\n",
      "0           1           [0, 1, 2, 3, 4]     ->   [0, 1, 2, 3, 4]\n",
      "0           1           [0, 1, 2, 3, 4]     ->   [0, 1, 2, 3, 4]\n",
      "0           1           [0, 1, 2, 3, 4]     ->   [0, 1, 2, 3, 4]\n",
      "0           1           [0, 1, 2, 3, 4]     ->   [0, 1, 2, 3, 4]\n",
      "0           1           [0, 1, 2, 3, 4]     ->   [0, 1, 2, 3, 4]\n",
      "0           1           [0, 1, 2, 3, 4]     ->   [0, 1, 2, 3, 4]\n",
      "0           1           [0, 1, 2, 3, 4]     ->   [0, 1, 2, 3, 4]\n",
      "\n",
      "Costo acumulado total: 20\n"
     ]
    }
   ],
   "source": [
    "config = [0, 1, 2, 3, 4]\n",
    "sequence = secuencia_minima(config, 20)\n",
    "print()\n",
    "cost = calcular_costo_mtf(config, sequence)"
   ]
  },
  {
   "cell_type": "markdown",
   "id": "6fa669ca",
   "metadata": {},
   "source": [
    "La secuencia con costo mínimo para una secuencia de `20` solicitudes, es una secuencia conformada solo por `0` ya que es el primer elemento de la lista de configuración.\n",
    "\n",
    "Su costo total es `20` debido a que `20` es la longitud de la secuencia.\n",
    "\n",
    "---"
   ]
  },
  {
   "cell_type": "markdown",
   "id": "28f7d281",
   "metadata": {},
   "source": [
    "## **D) ¿Para qué secuencia de 20 solicitudes se obtiene el peor de los casos utilizando el algoritmo MTF para la configuración 0, 1, 2, 3, 4? ¿Cuál sería ese costo total de acceso?**"
   ]
  },
  {
   "cell_type": "markdown",
   "id": "f8dfc7b7",
   "metadata": {},
   "source": [
    "El algoritmo MTF da el pero costo cuando la secuencia de solicitudes está en orden inverso al de la lista de configuración. Aquí el costo total de acceso es igual a `n * l`, donde `l` es el tamaño de la lista de configuración y `n` es el tamaño de la secuencia de solicitudes."
   ]
  },
  {
   "cell_type": "code",
   "execution_count": 6,
   "id": "ad079fc3",
   "metadata": {},
   "outputs": [
    {
     "name": "stdout",
     "output_type": "stream",
     "text": [
      "Secuencia con mayor costo generada: [4, 3, 2, 1, 0, 4, 3, 2, 1, 0, 4, 3, 2, 1, 0, 4, 3, 2, 1, 0] (longitud: 20)\n",
      "\n",
      "Lista inicial: [0, 1, 2, 3, 4]\n",
      "Solicitudes: [4, 3, 2, 1, 0, 4, 3, 2, 1, 0, 4, 3, 2, 1, 0, 4, 3, 2, 1, 0]\n",
      "\n",
      "Solicitud   Costo       Lista configuracion      Lista después\n",
      "----------------------------------------------------------------------\n",
      "4           5           [4, 0, 1, 2, 3]     ->   [4, 0, 1, 2, 3]\n",
      "3           5           [3, 4, 0, 1, 2]     ->   [3, 4, 0, 1, 2]\n",
      "2           5           [2, 3, 4, 0, 1]     ->   [2, 3, 4, 0, 1]\n",
      "1           5           [1, 2, 3, 4, 0]     ->   [1, 2, 3, 4, 0]\n",
      "0           5           [0, 1, 2, 3, 4]     ->   [0, 1, 2, 3, 4]\n",
      "4           5           [4, 0, 1, 2, 3]     ->   [4, 0, 1, 2, 3]\n",
      "3           5           [3, 4, 0, 1, 2]     ->   [3, 4, 0, 1, 2]\n",
      "2           5           [2, 3, 4, 0, 1]     ->   [2, 3, 4, 0, 1]\n",
      "1           5           [1, 2, 3, 4, 0]     ->   [1, 2, 3, 4, 0]\n",
      "0           5           [0, 1, 2, 3, 4]     ->   [0, 1, 2, 3, 4]\n",
      "4           5           [4, 0, 1, 2, 3]     ->   [4, 0, 1, 2, 3]\n",
      "3           5           [3, 4, 0, 1, 2]     ->   [3, 4, 0, 1, 2]\n",
      "2           5           [2, 3, 4, 0, 1]     ->   [2, 3, 4, 0, 1]\n",
      "1           5           [1, 2, 3, 4, 0]     ->   [1, 2, 3, 4, 0]\n",
      "0           5           [0, 1, 2, 3, 4]     ->   [0, 1, 2, 3, 4]\n",
      "4           5           [4, 0, 1, 2, 3]     ->   [4, 0, 1, 2, 3]\n",
      "3           5           [3, 4, 0, 1, 2]     ->   [3, 4, 0, 1, 2]\n",
      "2           5           [2, 3, 4, 0, 1]     ->   [2, 3, 4, 0, 1]\n",
      "1           5           [1, 2, 3, 4, 0]     ->   [1, 2, 3, 4, 0]\n",
      "0           5           [0, 1, 2, 3, 4]     ->   [0, 1, 2, 3, 4]\n",
      "\n",
      "Costo acumulado total: 100\n"
     ]
    }
   ],
   "source": [
    "config = [0, 1, 2, 3, 4]\n",
    "sequence = secuencia_maxima(config, 20)\n",
    "print()\n",
    "cost = calcular_costo_mtf(config, sequence)"
   ]
  },
  {
   "cell_type": "markdown",
   "id": "5ba62038",
   "metadata": {},
   "source": [
    "La secuencia con costo máximo para una secuencia de 20 solicitudes es una secuencia conformada por la repeticion de la lista `4,3,2,1,0` 4 veces seguidas, ya que es la lista de configuración invertida repitiendose 4 veces para conformar `20` elementos en la secuencia.\n",
    "\n",
    "Su costo total es de `100` ya que el tamaño de la secuencia es `20` y la configuracion es de `5`, es decir `5*20 = 100`\n",
    "\n",
    "---"
   ]
  },
  {
   "cell_type": "markdown",
   "id": "40217372",
   "metadata": {},
   "source": [
    "## **E) Calcular el costo de acceso utilizando el algoritmo MTF para**\n",
    "\n",
    "a. Lista de configuración: \n",
    "    `0, 1, 2, 3, 4`\n",
    "\n",
    "b. Secuencia de solicitudes: \n",
    "    `2, 2, 2, 2, 2, 2, 2, 2, 2, 2, 2, 2, 2, 2, 2, 2, 2, 2, 2, 2`\n",
    "\n",
    "Imprima la lista de configuración, la solicitud, su costo y la configuración de la lista aplicando MTF por cada secuencia de solicitudes y al final el costo total de acceso."
   ]
  },
  {
   "cell_type": "code",
   "execution_count": 7,
   "id": "200dfc47",
   "metadata": {},
   "outputs": [
    {
     "name": "stdout",
     "output_type": "stream",
     "text": [
      "Lista inicial: [0, 1, 2, 3, 4]\n",
      "Solicitudes: [2, 2, 2, 2, 2, 2, 2, 2, 2, 2, 2, 2, 2, 2, 2, 2, 2, 2, 2, 2]\n",
      "\n",
      "Solicitud   Costo       Lista configuracion      Lista después\n",
      "----------------------------------------------------------------------\n",
      "2           3           [2, 0, 1, 3, 4]     ->   [2, 0, 1, 3, 4]\n",
      "2           1           [2, 0, 1, 3, 4]     ->   [2, 0, 1, 3, 4]\n",
      "2           1           [2, 0, 1, 3, 4]     ->   [2, 0, 1, 3, 4]\n",
      "2           1           [2, 0, 1, 3, 4]     ->   [2, 0, 1, 3, 4]\n",
      "2           1           [2, 0, 1, 3, 4]     ->   [2, 0, 1, 3, 4]\n",
      "2           1           [2, 0, 1, 3, 4]     ->   [2, 0, 1, 3, 4]\n",
      "2           1           [2, 0, 1, 3, 4]     ->   [2, 0, 1, 3, 4]\n",
      "2           1           [2, 0, 1, 3, 4]     ->   [2, 0, 1, 3, 4]\n",
      "2           1           [2, 0, 1, 3, 4]     ->   [2, 0, 1, 3, 4]\n",
      "2           1           [2, 0, 1, 3, 4]     ->   [2, 0, 1, 3, 4]\n",
      "2           1           [2, 0, 1, 3, 4]     ->   [2, 0, 1, 3, 4]\n",
      "2           1           [2, 0, 1, 3, 4]     ->   [2, 0, 1, 3, 4]\n",
      "2           1           [2, 0, 1, 3, 4]     ->   [2, 0, 1, 3, 4]\n",
      "2           1           [2, 0, 1, 3, 4]     ->   [2, 0, 1, 3, 4]\n",
      "2           1           [2, 0, 1, 3, 4]     ->   [2, 0, 1, 3, 4]\n",
      "2           1           [2, 0, 1, 3, 4]     ->   [2, 0, 1, 3, 4]\n",
      "2           1           [2, 0, 1, 3, 4]     ->   [2, 0, 1, 3, 4]\n",
      "2           1           [2, 0, 1, 3, 4]     ->   [2, 0, 1, 3, 4]\n",
      "2           1           [2, 0, 1, 3, 4]     ->   [2, 0, 1, 3, 4]\n",
      "2           1           [2, 0, 1, 3, 4]     ->   [2, 0, 1, 3, 4]\n",
      "\n",
      "Costo acumulado total: 22\n"
     ]
    }
   ],
   "source": [
    "config = [0, 1, 2, 3, 4]\n",
    "sequence = [2, 2, 2, 2, 2, 2, 2, 2, 2, 2, 2, 2, 2, 2, 2, 2, 2, 2, 2, 2]\n",
    "cost = calcular_costo_mtf(config, sequence)"
   ]
  },
  {
   "cell_type": "markdown",
   "id": "86c60206",
   "metadata": {},
   "source": [
    "Si se hiciera la secuencia de solicitudes 3, 3, 3, 3, 3, 3, 3, 3, 3, 3, 3, 3, 3, 3, 3, 3, 3, 3, 3, 3\n",
    "¿cuál es el costo total de acceso?\n",
    "¿Se observa algún patrón cuando hay una repetición de 20 elementos en la secuencia?"
   ]
  },
  {
   "cell_type": "code",
   "execution_count": 8,
   "id": "bf7cf15f",
   "metadata": {},
   "outputs": [
    {
     "name": "stdout",
     "output_type": "stream",
     "text": [
      "Lista inicial: [0, 1, 2, 3, 4]\n",
      "Solicitudes: [3, 3, 3, 3, 3, 3, 3, 3, 3, 3, 3, 3, 3, 3, 3, 3, 3, 3, 3, 3]\n",
      "\n",
      "Solicitud   Costo       Lista configuracion      Lista después\n",
      "----------------------------------------------------------------------\n",
      "3           4           [3, 0, 1, 2, 4]     ->   [3, 0, 1, 2, 4]\n",
      "3           1           [3, 0, 1, 2, 4]     ->   [3, 0, 1, 2, 4]\n",
      "3           1           [3, 0, 1, 2, 4]     ->   [3, 0, 1, 2, 4]\n",
      "3           1           [3, 0, 1, 2, 4]     ->   [3, 0, 1, 2, 4]\n",
      "3           1           [3, 0, 1, 2, 4]     ->   [3, 0, 1, 2, 4]\n",
      "3           1           [3, 0, 1, 2, 4]     ->   [3, 0, 1, 2, 4]\n",
      "3           1           [3, 0, 1, 2, 4]     ->   [3, 0, 1, 2, 4]\n",
      "3           1           [3, 0, 1, 2, 4]     ->   [3, 0, 1, 2, 4]\n",
      "3           1           [3, 0, 1, 2, 4]     ->   [3, 0, 1, 2, 4]\n",
      "3           1           [3, 0, 1, 2, 4]     ->   [3, 0, 1, 2, 4]\n",
      "3           1           [3, 0, 1, 2, 4]     ->   [3, 0, 1, 2, 4]\n",
      "3           1           [3, 0, 1, 2, 4]     ->   [3, 0, 1, 2, 4]\n",
      "3           1           [3, 0, 1, 2, 4]     ->   [3, 0, 1, 2, 4]\n",
      "3           1           [3, 0, 1, 2, 4]     ->   [3, 0, 1, 2, 4]\n",
      "3           1           [3, 0, 1, 2, 4]     ->   [3, 0, 1, 2, 4]\n",
      "3           1           [3, 0, 1, 2, 4]     ->   [3, 0, 1, 2, 4]\n",
      "3           1           [3, 0, 1, 2, 4]     ->   [3, 0, 1, 2, 4]\n",
      "3           1           [3, 0, 1, 2, 4]     ->   [3, 0, 1, 2, 4]\n",
      "3           1           [3, 0, 1, 2, 4]     ->   [3, 0, 1, 2, 4]\n",
      "3           1           [3, 0, 1, 2, 4]     ->   [3, 0, 1, 2, 4]\n",
      "\n",
      "Costo acumulado total: 23\n"
     ]
    }
   ],
   "source": [
    "config = [0, 1, 2, 3, 4]\n",
    "sequence = [3, 3, 3, 3, 3, 3, 3, 3, 3, 3, 3, 3, 3, 3, 3, 3, 3, 3, 3, 3]\n",
    "cost = calcular_costo_mtf(config, sequence)\n"
   ]
  },
  {
   "cell_type": "code",
   "execution_count": 9,
   "id": "3df7b5b7",
   "metadata": {},
   "outputs": [
    {
     "name": "stdout",
     "output_type": "stream",
     "text": [
      "==================================================\n",
      "PATRÓN OBSERVADO:\n",
      "- Primer acceso: costo = posición inicial del elemento\n",
      "- Accesos siguientes: costo = 1 (ya está al frente)\n",
      "- Costo total = posición_inicial + (repeticiones-1) × 1\n",
      "- Para elemento 2: 3 + 19×1 = 22\n",
      "- Para elemento 3: 4 + 19×1 = 23\n"
     ]
    }
   ],
   "source": [
    "\n",
    "print(\"=\" * 50)\n",
    "print(\"PATRÓN OBSERVADO:\")\n",
    "print(\"- Primer acceso: costo = posición inicial del elemento\")\n",
    "print(\"- Accesos siguientes: costo = 1 (ya está al frente)\")\n",
    "print(\"- Costo total = posición_inicial + (repeticiones-1) × 1\")\n",
    "print(f\"- Para elemento 2: 3 + 19×1 = {3 + 19}\")\n",
    "print(f\"- Para elemento 3: 4 + 19×1 = {4 + 19}\")"
   ]
  },
  {
   "cell_type": "markdown",
   "id": "c53f4f22",
   "metadata": {},
   "source": [
    "El patrón que se observa es que únicamente la primera solicitud tendrá un costo mayor si el elemento no es el primero en la lista de configuración. Es decir, el costo en ese primer paso será igual a la posición en la que se encuentre el elemento de la solicitud en la configuración. Posteriormente, el resto de las solicitudes tendrán un costo mínimo, ya que ahora se está buscando el elemento solicitado en la primera posición de la configuración.\n",
    "\n",
    "---"
   ]
  },
  {
   "cell_type": "markdown",
   "id": "fced9cca",
   "metadata": {},
   "source": [
    "### **F) Se plantea un algoritmo mejorado de MTF: IMTF por Rakesh Mohanty y Sasmita Tripathy, basado en el concepto de mirada hacia adelante (look-ahead), en el cual, después de acceder al elemento de la posición 𝑖 en la lista de configuración, se mueve el elemento al frente de la lista si y sólo si este elemento está en los próximos 𝑖 − 1 elementos del elemento accedido en la solicitud de secuencia. En caso contrario, el elemento accedido no se mueve al frente de la lista de configuración. Imprima la lista de configuración, la solicitud, su costo y la configuración de la lista aplicando IMTF por cada solicitud en la secuencia. Al final, imprima el costo total de acceso usando IMTF para el mejor y el peor de los casos de MTF.**"
   ]
  },
  {
   "cell_type": "markdown",
   "id": "eaca76a6",
   "metadata": {},
   "source": [
    "## IMTF"
   ]
  },
  {
   "cell_type": "code",
   "execution_count": 10,
   "id": "b4d78b29",
   "metadata": {},
   "outputs": [],
   "source": [
    "def imtf_cost(config: list, sequence: list) ->int:\n",
    "    \"\"\"\n",
    "    Calcula el costo total de acceder a una secuencia de elementos utilizando el algoritmo \n",
    "    Improved Move-To-Front (IMTF).\n",
    "\n",
    "    En IMTF, un elemento se mueve al frente solo si se espera que se vuelva a usar \n",
    "    pronto (es decir, si vuelve a aparecer dentro de un rango igual a su costo actual).\n",
    "\n",
    "    Parámetros:\n",
    "        config (list): Lista inicial de configuración (puede modificarse durante la ejecución).\n",
    "        sequence (list): Lista de solicitudes a procesar.\n",
    "\n",
    "    Retorna:\n",
    "        int: Costo total acumulado según la estrategia IMTF.\n",
    "    \"\"\"\n",
    "    print(f\"Lista de Configuración: {config}\")\n",
    "    print(f\"Secuencia de Solicitudes: {sequence}\\n\")\n",
    "    total_cost = 0\n",
    "    n = len(sequence)\n",
    "\n",
    "    print(f\"{'Solicitud':<12}{'Costo':<12}{'Lista configuracion':<25}\")\n",
    "    print(\"-\" * 70)\n",
    "\n",
    "\n",
    "    for i, request in enumerate(sequence):\n",
    "        cost = config.index(request) + 1\n",
    "        total_cost += cost\n",
    "        \n",
    "        # Mirar hacia adelante para decidir si mover el elemento al frente\n",
    "        if request in sequence[i+1:i+cost]:\n",
    "            config.remove(request)\n",
    "            config.insert(0, request)\n",
    "        \n",
    "        # print(f\"Configuración: {config}, Solicitud: {request}, Costo: {cost}\")\n",
    "        print(f\"{str(request):<12}{str(cost):<12}{str(config):<20}\")\n",
    "    print(f\"\\nCosto total: {total_cost}\")\n",
    "    return total_cost"
   ]
  },
  {
   "cell_type": "code",
   "execution_count": 11,
   "id": "4ce0e067",
   "metadata": {},
   "outputs": [
    {
     "name": "stdout",
     "output_type": "stream",
     "text": [
      "Secuencia de Costo Mínimo (IMTF)\n",
      "Secuencia con menor costo generada: [0, 0, 0, 0, 0, 0, 0, 0, 0, 0, 0, 0, 0, 0, 0, 0, 0, 0, 0, 0] (longitud: 20)\n",
      "Lista de Configuración: [0, 1, 2, 3, 4]\n",
      "Secuencia de Solicitudes: [0, 0, 0, 0, 0, 0, 0, 0, 0, 0, 0, 0, 0, 0, 0, 0, 0, 0, 0, 0]\n",
      "\n",
      "Solicitud   Costo       Lista configuracion      \n",
      "----------------------------------------------------------------------\n",
      "0           1           [0, 1, 2, 3, 4]     \n",
      "0           1           [0, 1, 2, 3, 4]     \n",
      "0           1           [0, 1, 2, 3, 4]     \n",
      "0           1           [0, 1, 2, 3, 4]     \n",
      "0           1           [0, 1, 2, 3, 4]     \n",
      "0           1           [0, 1, 2, 3, 4]     \n",
      "0           1           [0, 1, 2, 3, 4]     \n",
      "0           1           [0, 1, 2, 3, 4]     \n",
      "0           1           [0, 1, 2, 3, 4]     \n",
      "0           1           [0, 1, 2, 3, 4]     \n",
      "0           1           [0, 1, 2, 3, 4]     \n",
      "0           1           [0, 1, 2, 3, 4]     \n",
      "0           1           [0, 1, 2, 3, 4]     \n",
      "0           1           [0, 1, 2, 3, 4]     \n",
      "0           1           [0, 1, 2, 3, 4]     \n",
      "0           1           [0, 1, 2, 3, 4]     \n",
      "0           1           [0, 1, 2, 3, 4]     \n",
      "0           1           [0, 1, 2, 3, 4]     \n",
      "0           1           [0, 1, 2, 3, 4]     \n",
      "0           1           [0, 1, 2, 3, 4]     \n",
      "\n",
      "Costo total: 20\n"
     ]
    }
   ],
   "source": [
    "config = [0, 1, 2, 3, 4]\n",
    "n = 20\n",
    "print(\"Secuencia de Costo Mínimo (IMTF)\")\n",
    "best_sequence = secuencia_minima(config, n)\n",
    "cost = imtf_cost(config, best_sequence)"
   ]
  },
  {
   "cell_type": "code",
   "execution_count": 12,
   "id": "47fdfdcb",
   "metadata": {},
   "outputs": [
    {
     "name": "stdout",
     "output_type": "stream",
     "text": [
      "Secuencia de Costo Máximo (IMTF)\n",
      "Secuencia con mayor costo generada: [4, 3, 2, 1, 0, 4, 3, 2, 1, 0, 4, 3, 2, 1, 0, 4, 3, 2, 1, 0] (longitud: 20)\n",
      "Lista de Configuración: [0, 1, 2, 3, 4]\n",
      "Secuencia de Solicitudes: [4, 3, 2, 1, 0, 4, 3, 2, 1, 0, 4, 3, 2, 1, 0, 4, 3, 2, 1, 0]\n",
      "\n",
      "Solicitud   Costo       Lista configuracion      \n",
      "----------------------------------------------------------------------\n",
      "4           5           [0, 1, 2, 3, 4]     \n",
      "3           4           [0, 1, 2, 3, 4]     \n",
      "2           3           [0, 1, 2, 3, 4]     \n",
      "1           2           [0, 1, 2, 3, 4]     \n",
      "0           1           [0, 1, 2, 3, 4]     \n",
      "4           5           [0, 1, 2, 3, 4]     \n",
      "3           4           [0, 1, 2, 3, 4]     \n",
      "2           3           [0, 1, 2, 3, 4]     \n",
      "1           2           [0, 1, 2, 3, 4]     \n",
      "0           1           [0, 1, 2, 3, 4]     \n",
      "4           5           [0, 1, 2, 3, 4]     \n",
      "3           4           [0, 1, 2, 3, 4]     \n",
      "2           3           [0, 1, 2, 3, 4]     \n",
      "1           2           [0, 1, 2, 3, 4]     \n",
      "0           1           [0, 1, 2, 3, 4]     \n",
      "4           5           [0, 1, 2, 3, 4]     \n",
      "3           4           [0, 1, 2, 3, 4]     \n",
      "2           3           [0, 1, 2, 3, 4]     \n",
      "1           2           [0, 1, 2, 3, 4]     \n",
      "0           1           [0, 1, 2, 3, 4]     \n",
      "\n",
      "Costo total: 60\n"
     ]
    }
   ],
   "source": [
    "config = [0, 1, 2, 3, 4]\n",
    "n = 20\n",
    "print(\"Secuencia de Costo Máximo (IMTF)\")\n",
    "worst_sequence = secuencia_maxima(config, n)\n",
    "cost = imtf_cost(config, worst_sequence)   "
   ]
  }
 ],
 "metadata": {
  "kernelspec": {
   "display_name": "Python 3",
   "language": "python",
   "name": "python3"
  },
  "language_info": {
   "codemirror_mode": {
    "name": "ipython",
    "version": 3
   },
   "file_extension": ".py",
   "mimetype": "text/x-python",
   "name": "python",
   "nbconvert_exporter": "python",
   "pygments_lexer": "ipython3",
   "version": "3.11.9"
  }
 },
 "nbformat": 4,
 "nbformat_minor": 5
}
