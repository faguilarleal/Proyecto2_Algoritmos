{
 "cells": [
  {
   "cell_type": "markdown",
   "id": "d1a68fb2",
   "metadata": {},
   "source": [
    "# Proyecto 2"
   ]
  },
  {
   "cell_type": "markdown",
   "id": "96775b2c",
   "metadata": {},
   "source": [
    "### MTF"
   ]
  },
  {
   "cell_type": "code",
   "execution_count": 15,
   "id": "be119d66",
   "metadata": {},
   "outputs": [],
   "source": [
    "def calcular_costo_mtf(lista, solicitudes):\n",
    "\n",
    "    print(f\"Lista inicial: {lista}\")\n",
    "    print(f\"Solicitudes: {solicitudes}\\n\")\n",
    "    \n",
    "    costo_total = 0\n",
    "    for elemento in solicitudes:\n",
    "        posicion = lista.index(elemento)\n",
    "        costo = posicion + 1\n",
    "        costo_total += costo\n",
    "\n",
    "        # Mover el elemento al frente\n",
    "        lista.pop(posicion)\n",
    "        lista.insert(0, elemento)\n",
    "\n",
    "        print(f\"Elemento solicitado: {elemento}, Costo: {costo}, Lista actual: {lista}\")\n",
    "    \n",
    "    print(f\"\\nCosto acumulado total: {costo_total}\")\n",
    "    return costo_total\n",
    "\n",
    "\n",
    "def secuencia_minima(lista_base, cantidad):\n",
    "\n",
    "    secuencia = [lista_base[0]] * cantidad\n",
    "    print(f\"Secuencia con menor costo generada: {secuencia} (longitud: {cantidad})\")\n",
    "    return secuencia\n",
    "\n",
    "\n",
    "def secuencia_maxima(lista_base, cantidad):\n",
    "\n",
    "    secuencia = []\n",
    "    lista_temporal = lista_base[:]\n",
    "\n",
    "    for _ in range(cantidad):\n",
    "        ultimo = lista_temporal[-1]\n",
    "        secuencia.append(ultimo)\n",
    "\n",
    "        # Rotar el último al frente\n",
    "        lista_temporal.insert(0, lista_temporal.pop())\n",
    "\n",
    "    print(f\"Secuencia con mayor costo generada: {secuencia} (longitud: {cantidad})\")\n",
    "    return secuencia\n"
   ]
  },
  {
   "cell_type": "markdown",
   "id": "74028e91",
   "metadata": {},
   "source": [
    "\n",
    "**A) Calcular el costo de acceso utilizando el algoritmo MTF para**\n",
    "    \n",
    "a. Lista de configuración: \n",
    "`0, 1, 2, 3, 4`\n",
    "\n",
    "b. Secuencia de solicitudes: \n",
    "`0, 1, 2, 3, 4, 0, 1, 2, 3, 4, 0, 1, 2, 3, 4, 0, 1, 2, 3, 4`\n",
    "    \n",
    "Imprima la lista de configuración, la solicitud, su costo y la configuración de la lista aplicando MTF por cada solicitud en la secuencia y, al final, imprima el costo total de los accesos."
   ]
  },
  {
   "cell_type": "code",
   "execution_count": 16,
   "id": "1d94cfc6",
   "metadata": {},
   "outputs": [
    {
     "name": "stdout",
     "output_type": "stream",
     "text": [
      "Lista inicial: [0, 1, 2, 3, 4]\n",
      "Solicitudes: [0, 1, 2, 3, 4, 0, 1, 2, 3, 4, 0, 1, 2, 3, 4, 0, 1, 2, 3, 4]\n",
      "\n",
      "Elemento solicitado: 0, Costo: 1, Lista actual: [0, 1, 2, 3, 4]\n",
      "Elemento solicitado: 1, Costo: 2, Lista actual: [1, 0, 2, 3, 4]\n",
      "Elemento solicitado: 2, Costo: 3, Lista actual: [2, 1, 0, 3, 4]\n",
      "Elemento solicitado: 3, Costo: 4, Lista actual: [3, 2, 1, 0, 4]\n",
      "Elemento solicitado: 4, Costo: 5, Lista actual: [4, 3, 2, 1, 0]\n",
      "Elemento solicitado: 0, Costo: 5, Lista actual: [0, 4, 3, 2, 1]\n",
      "Elemento solicitado: 1, Costo: 5, Lista actual: [1, 0, 4, 3, 2]\n",
      "Elemento solicitado: 2, Costo: 5, Lista actual: [2, 1, 0, 4, 3]\n",
      "Elemento solicitado: 3, Costo: 5, Lista actual: [3, 2, 1, 0, 4]\n",
      "Elemento solicitado: 4, Costo: 5, Lista actual: [4, 3, 2, 1, 0]\n",
      "Elemento solicitado: 0, Costo: 5, Lista actual: [0, 4, 3, 2, 1]\n",
      "Elemento solicitado: 1, Costo: 5, Lista actual: [1, 0, 4, 3, 2]\n",
      "Elemento solicitado: 2, Costo: 5, Lista actual: [2, 1, 0, 4, 3]\n",
      "Elemento solicitado: 3, Costo: 5, Lista actual: [3, 2, 1, 0, 4]\n",
      "Elemento solicitado: 4, Costo: 5, Lista actual: [4, 3, 2, 1, 0]\n",
      "Elemento solicitado: 0, Costo: 5, Lista actual: [0, 4, 3, 2, 1]\n",
      "Elemento solicitado: 1, Costo: 5, Lista actual: [1, 0, 4, 3, 2]\n",
      "Elemento solicitado: 2, Costo: 5, Lista actual: [2, 1, 0, 4, 3]\n",
      "Elemento solicitado: 3, Costo: 5, Lista actual: [3, 2, 1, 0, 4]\n",
      "Elemento solicitado: 4, Costo: 5, Lista actual: [4, 3, 2, 1, 0]\n",
      "\n",
      "Costo acumulado total: 90\n"
     ]
    }
   ],
   "source": [
    "config = [0, 1, 2, 3, 4]\n",
    "sequence = [0, 1, 2, 3, 4, 0, 1, 2, 3, 4, 0, 1, 2, 3, 4, 0, 1, 2, 3, 4]\n",
    "cost = calcular_costo_mtf(config, sequence)"
   ]
  },
  {
   "cell_type": "markdown",
   "id": "5c740906",
   "metadata": {},
   "source": [
    "---\n",
    "**B) Calcular el costo de acceso utilizando el algoritmo MTF para**\n",
    "    \n",
    "a. Lista de configuración: \n",
    "`0, 1, 2, 3, 4`\n",
    "    \n",
    "b. Secuencia de solicitudes: \n",
    "`4, 3, 2, 1, 0, 1, 2, 3, 4, 3, 2, 1, 0, 1, 2, 3, 4`\n",
    "    \n",
    "Imprima la lista de configuración, la solicitud, su costo y la configuración de la lista aplicando MTF por cada solicitud en la secuencia y, al final, imprima el costo total de los accesos."
   ]
  },
  {
   "cell_type": "code",
   "execution_count": 17,
   "id": "ce88b17f",
   "metadata": {},
   "outputs": [
    {
     "name": "stdout",
     "output_type": "stream",
     "text": [
      "Lista inicial: [0, 1, 2, 3, 4]\n",
      "Solicitudes: [4, 3, 2, 1, 0, 1, 2, 3, 4, 3, 2, 1, 0, 1, 2, 3, 4]\n",
      "\n",
      "Elemento solicitado: 4, Costo: 5, Lista actual: [4, 0, 1, 2, 3]\n",
      "Elemento solicitado: 3, Costo: 5, Lista actual: [3, 4, 0, 1, 2]\n",
      "Elemento solicitado: 2, Costo: 5, Lista actual: [2, 3, 4, 0, 1]\n",
      "Elemento solicitado: 1, Costo: 5, Lista actual: [1, 2, 3, 4, 0]\n",
      "Elemento solicitado: 0, Costo: 5, Lista actual: [0, 1, 2, 3, 4]\n",
      "Elemento solicitado: 1, Costo: 2, Lista actual: [1, 0, 2, 3, 4]\n",
      "Elemento solicitado: 2, Costo: 3, Lista actual: [2, 1, 0, 3, 4]\n",
      "Elemento solicitado: 3, Costo: 4, Lista actual: [3, 2, 1, 0, 4]\n",
      "Elemento solicitado: 4, Costo: 5, Lista actual: [4, 3, 2, 1, 0]\n",
      "Elemento solicitado: 3, Costo: 2, Lista actual: [3, 4, 2, 1, 0]\n",
      "Elemento solicitado: 2, Costo: 3, Lista actual: [2, 3, 4, 1, 0]\n",
      "Elemento solicitado: 1, Costo: 4, Lista actual: [1, 2, 3, 4, 0]\n",
      "Elemento solicitado: 0, Costo: 5, Lista actual: [0, 1, 2, 3, 4]\n",
      "Elemento solicitado: 1, Costo: 2, Lista actual: [1, 0, 2, 3, 4]\n",
      "Elemento solicitado: 2, Costo: 3, Lista actual: [2, 1, 0, 3, 4]\n",
      "Elemento solicitado: 3, Costo: 4, Lista actual: [3, 2, 1, 0, 4]\n",
      "Elemento solicitado: 4, Costo: 5, Lista actual: [4, 3, 2, 1, 0]\n",
      "\n",
      "Costo acumulado total: 67\n"
     ]
    }
   ],
   "source": [
    "config = [0, 1, 2, 3, 4]\n",
    "sequence= [4, 3, 2, 1, 0, 1, 2, 3, 4, 3, 2, 1, 0, 1, 2, 3, 4]\n",
    "costo = calcular_costo_mtf(config, sequence)"
   ]
  },
  {
   "cell_type": "markdown",
   "id": "7cc2a9c2",
   "metadata": {},
   "source": [
    "**C) ¿Para qué secuencia de 20 solicitudes se obtiene el mínimo costo total de acceso utilizando el algoritmo MTF para la configuración 0, 1, 2, 3, 4? ¿Cuál sería ese costo total de acceso?**"
   ]
  },
  {
   "cell_type": "markdown",
   "id": "28f7d281",
   "metadata": {},
   "source": [
    "**D) ¿Para qué secuencia de 20 solicitudes se obtiene el peor de los casos utilizando el algoritmo MTF para la configuración 0, 1, 2, 3, 4? ¿Cuál sería ese costo total de acceso?**"
   ]
  },
  {
   "cell_type": "markdown",
   "id": "40217372",
   "metadata": {},
   "source": [
    "**E) Calcular el costo de acceso utilizando el algoritmo MTF para**\n",
    "\n",
    "a. Lista de configuración: \n",
    "    `0, 1, 2, 3, 4`\n",
    "\n",
    "b. Secuencia de solicitudes: \n",
    "    `2, 2, 2, 2, 2, 2, 2, 2, 2, 2, 2, 2, 2, 2, 2, 2, 2, 2, 2, 2`\n",
    "\n",
    "Imprima la lista de configuración, la solicitud, su costo y la configuración de la lista aplicando MTF por cada secuencia de solicitudes y al final el costo total de acceso."
   ]
  },
  {
   "cell_type": "code",
   "execution_count": 18,
   "id": "200dfc47",
   "metadata": {},
   "outputs": [
    {
     "name": "stdout",
     "output_type": "stream",
     "text": [
      "Lista inicial: [0, 1, 2, 3, 4]\n",
      "Solicitudes: [2, 2, 2, 2, 2, 2, 2, 2, 2, 2, 2, 2, 2, 2, 2, 2, 2, 2, 2, 2]\n",
      "\n",
      "Elemento solicitado: 2, Costo: 3, Lista actual: [2, 0, 1, 3, 4]\n",
      "Elemento solicitado: 2, Costo: 1, Lista actual: [2, 0, 1, 3, 4]\n",
      "Elemento solicitado: 2, Costo: 1, Lista actual: [2, 0, 1, 3, 4]\n",
      "Elemento solicitado: 2, Costo: 1, Lista actual: [2, 0, 1, 3, 4]\n",
      "Elemento solicitado: 2, Costo: 1, Lista actual: [2, 0, 1, 3, 4]\n",
      "Elemento solicitado: 2, Costo: 1, Lista actual: [2, 0, 1, 3, 4]\n",
      "Elemento solicitado: 2, Costo: 1, Lista actual: [2, 0, 1, 3, 4]\n",
      "Elemento solicitado: 2, Costo: 1, Lista actual: [2, 0, 1, 3, 4]\n",
      "Elemento solicitado: 2, Costo: 1, Lista actual: [2, 0, 1, 3, 4]\n",
      "Elemento solicitado: 2, Costo: 1, Lista actual: [2, 0, 1, 3, 4]\n",
      "Elemento solicitado: 2, Costo: 1, Lista actual: [2, 0, 1, 3, 4]\n",
      "Elemento solicitado: 2, Costo: 1, Lista actual: [2, 0, 1, 3, 4]\n",
      "Elemento solicitado: 2, Costo: 1, Lista actual: [2, 0, 1, 3, 4]\n",
      "Elemento solicitado: 2, Costo: 1, Lista actual: [2, 0, 1, 3, 4]\n",
      "Elemento solicitado: 2, Costo: 1, Lista actual: [2, 0, 1, 3, 4]\n",
      "Elemento solicitado: 2, Costo: 1, Lista actual: [2, 0, 1, 3, 4]\n",
      "Elemento solicitado: 2, Costo: 1, Lista actual: [2, 0, 1, 3, 4]\n",
      "Elemento solicitado: 2, Costo: 1, Lista actual: [2, 0, 1, 3, 4]\n",
      "Elemento solicitado: 2, Costo: 1, Lista actual: [2, 0, 1, 3, 4]\n",
      "Elemento solicitado: 2, Costo: 1, Lista actual: [2, 0, 1, 3, 4]\n",
      "\n",
      "Costo acumulado total: 22\n"
     ]
    }
   ],
   "source": [
    "config = [0, 1, 2, 3, 4]\n",
    "sequence = [2, 2, 2, 2, 2, 2, 2, 2, 2, 2, 2, 2, 2, 2, 2, 2, 2, 2, 2, 2]\n",
    "cost = calcular_costo_mtf(config, sequence)"
   ]
  },
  {
   "cell_type": "markdown",
   "id": "86c60206",
   "metadata": {},
   "source": [
    "Si se hiciera la secuencia de solicitudes 3, 3, 3, 3, 3, 3, 3, 3, 3, 3, 3, 3, 3, 3, 3, 3, 3, 3, 3, 3\n",
    "¿cuál es el costo total de acceso?\n",
    "¿Se observa algún patrón cuando hay una repetición de 20 elementos en la secuencia?"
   ]
  },
  {
   "cell_type": "code",
   "execution_count": 19,
   "id": "bf7cf15f",
   "metadata": {},
   "outputs": [
    {
     "name": "stdout",
     "output_type": "stream",
     "text": [
      "Lista inicial: [0, 1, 2, 3, 4]\n",
      "Solicitudes: [3, 3, 3, 3, 3, 3, 3, 3, 3, 3, 3, 3, 3, 3, 3, 3, 3, 3, 3, 3]\n",
      "\n",
      "Elemento solicitado: 3, Costo: 4, Lista actual: [3, 0, 1, 2, 4]\n",
      "Elemento solicitado: 3, Costo: 1, Lista actual: [3, 0, 1, 2, 4]\n",
      "Elemento solicitado: 3, Costo: 1, Lista actual: [3, 0, 1, 2, 4]\n",
      "Elemento solicitado: 3, Costo: 1, Lista actual: [3, 0, 1, 2, 4]\n",
      "Elemento solicitado: 3, Costo: 1, Lista actual: [3, 0, 1, 2, 4]\n",
      "Elemento solicitado: 3, Costo: 1, Lista actual: [3, 0, 1, 2, 4]\n",
      "Elemento solicitado: 3, Costo: 1, Lista actual: [3, 0, 1, 2, 4]\n",
      "Elemento solicitado: 3, Costo: 1, Lista actual: [3, 0, 1, 2, 4]\n",
      "Elemento solicitado: 3, Costo: 1, Lista actual: [3, 0, 1, 2, 4]\n",
      "Elemento solicitado: 3, Costo: 1, Lista actual: [3, 0, 1, 2, 4]\n",
      "Elemento solicitado: 3, Costo: 1, Lista actual: [3, 0, 1, 2, 4]\n",
      "Elemento solicitado: 3, Costo: 1, Lista actual: [3, 0, 1, 2, 4]\n",
      "Elemento solicitado: 3, Costo: 1, Lista actual: [3, 0, 1, 2, 4]\n",
      "Elemento solicitado: 3, Costo: 1, Lista actual: [3, 0, 1, 2, 4]\n",
      "Elemento solicitado: 3, Costo: 1, Lista actual: [3, 0, 1, 2, 4]\n",
      "Elemento solicitado: 3, Costo: 1, Lista actual: [3, 0, 1, 2, 4]\n",
      "Elemento solicitado: 3, Costo: 1, Lista actual: [3, 0, 1, 2, 4]\n",
      "Elemento solicitado: 3, Costo: 1, Lista actual: [3, 0, 1, 2, 4]\n",
      "Elemento solicitado: 3, Costo: 1, Lista actual: [3, 0, 1, 2, 4]\n",
      "Elemento solicitado: 3, Costo: 1, Lista actual: [3, 0, 1, 2, 4]\n",
      "\n",
      "Costo acumulado total: 23\n"
     ]
    }
   ],
   "source": [
    "config = [0, 1, 2, 3, 4]\n",
    "sequence = [3, 3, 3, 3, 3, 3, 3, 3, 3, 3, 3, 3, 3, 3, 3, 3, 3, 3, 3, 3]\n",
    "cost = calcular_costo_mtf(config, sequence)"
   ]
  },
  {
   "cell_type": "markdown",
   "id": "fced9cca",
   "metadata": {},
   "source": [
    "**F) Se plantea un algoritmo mejorado de MTF: IMTF por Rakesh Mohanty y Sasmita Tripathy, basado en el concepto de mirada hacia adelante (look-ahead), en el cual, después de acceder al elemento de la posición 𝑖 en la lista de configuración, se mueve el elemento al frente de la lista si y sólo si este elemento está en los próximos 𝑖 − 1 elementos del elemento accedido en la solicitud de secuencia. En caso contrario, el elemento accedido no se mueve al frente de la lista de configuración. Imprima la lista de configuración, la solicitud, su costo y la configuración de la lista aplicando IMTF por cada solicitud en la secuencia. Al final, imprima el costo total de acceso usando IMTF para el mejor y el peor de los casos de MTF.**"
   ]
  },
  {
   "cell_type": "markdown",
   "id": "eaca76a6",
   "metadata": {},
   "source": [
    "## IMTF"
   ]
  },
  {
   "cell_type": "code",
   "execution_count": 20,
   "id": "b4d78b29",
   "metadata": {},
   "outputs": [],
   "source": [
    "def imtf_cost(config, sequence):\n",
    "    print(f\"Lista de Configuración: {config}\")\n",
    "    print(f\"Secuencia de Solicitudes: {sequence}\\n\")\n",
    "    total_cost = 0\n",
    "    n = len(sequence)\n",
    "    for i, request in enumerate(sequence):\n",
    "        cost = config.index(request) + 1\n",
    "        total_cost += cost\n",
    "        \n",
    "        # Look-ahead to decide whether to move the element to the front\n",
    "        if request in sequence[i+1:i+cost]:\n",
    "            config.remove(request)\n",
    "            config.insert(0, request)\n",
    "        \n",
    "        print(f\"Configuración: {config}, Solicitud: {request}, Costo: {cost}\")\n",
    "    print(f\"\\nCosto total: {total_cost}\")\n",
    "    return total_cost"
   ]
  },
  {
   "cell_type": "code",
   "execution_count": 21,
   "id": "4ce0e067",
   "metadata": {},
   "outputs": [
    {
     "name": "stdout",
     "output_type": "stream",
     "text": [
      "Secuencia de Costo Mínimo (IMTF)\n",
      "Secuencia con menor costo generada: [0, 0, 0, 0, 0, 0, 0, 0, 0, 0, 0, 0, 0, 0, 0, 0, 0, 0, 0, 0] (longitud: 20)\n",
      "Lista de Configuración: [0, 1, 2, 3, 4]\n",
      "Secuencia de Solicitudes: [0, 0, 0, 0, 0, 0, 0, 0, 0, 0, 0, 0, 0, 0, 0, 0, 0, 0, 0, 0]\n",
      "\n",
      "Configuración: [0, 1, 2, 3, 4], Solicitud: 0, Costo: 1\n",
      "Configuración: [0, 1, 2, 3, 4], Solicitud: 0, Costo: 1\n",
      "Configuración: [0, 1, 2, 3, 4], Solicitud: 0, Costo: 1\n",
      "Configuración: [0, 1, 2, 3, 4], Solicitud: 0, Costo: 1\n",
      "Configuración: [0, 1, 2, 3, 4], Solicitud: 0, Costo: 1\n",
      "Configuración: [0, 1, 2, 3, 4], Solicitud: 0, Costo: 1\n",
      "Configuración: [0, 1, 2, 3, 4], Solicitud: 0, Costo: 1\n",
      "Configuración: [0, 1, 2, 3, 4], Solicitud: 0, Costo: 1\n",
      "Configuración: [0, 1, 2, 3, 4], Solicitud: 0, Costo: 1\n",
      "Configuración: [0, 1, 2, 3, 4], Solicitud: 0, Costo: 1\n",
      "Configuración: [0, 1, 2, 3, 4], Solicitud: 0, Costo: 1\n",
      "Configuración: [0, 1, 2, 3, 4], Solicitud: 0, Costo: 1\n",
      "Configuración: [0, 1, 2, 3, 4], Solicitud: 0, Costo: 1\n",
      "Configuración: [0, 1, 2, 3, 4], Solicitud: 0, Costo: 1\n",
      "Configuración: [0, 1, 2, 3, 4], Solicitud: 0, Costo: 1\n",
      "Configuración: [0, 1, 2, 3, 4], Solicitud: 0, Costo: 1\n",
      "Configuración: [0, 1, 2, 3, 4], Solicitud: 0, Costo: 1\n",
      "Configuración: [0, 1, 2, 3, 4], Solicitud: 0, Costo: 1\n",
      "Configuración: [0, 1, 2, 3, 4], Solicitud: 0, Costo: 1\n",
      "Configuración: [0, 1, 2, 3, 4], Solicitud: 0, Costo: 1\n",
      "\n",
      "Costo total: 20\n"
     ]
    }
   ],
   "source": [
    "config = [0, 1, 2, 3, 4]\n",
    "n = 20\n",
    "print(\"Secuencia de Costo Mínimo (IMTF)\")\n",
    "best_sequence = secuencia_minima(config, n)\n",
    "cost = imtf_cost(config, best_sequence)"
   ]
  },
  {
   "cell_type": "code",
   "execution_count": 22,
   "id": "47fdfdcb",
   "metadata": {},
   "outputs": [
    {
     "name": "stdout",
     "output_type": "stream",
     "text": [
      "Secuencia de Costo Máximo (IMTF)\n",
      "Secuencia con mayor costo generada: [4, 3, 2, 1, 0, 4, 3, 2, 1, 0, 4, 3, 2, 1, 0, 4, 3, 2, 1, 0] (longitud: 20)\n",
      "Lista de Configuración: [0, 1, 2, 3, 4]\n",
      "Secuencia de Solicitudes: [4, 3, 2, 1, 0, 4, 3, 2, 1, 0, 4, 3, 2, 1, 0, 4, 3, 2, 1, 0]\n",
      "\n",
      "Configuración: [0, 1, 2, 3, 4], Solicitud: 4, Costo: 5\n",
      "Configuración: [0, 1, 2, 3, 4], Solicitud: 3, Costo: 4\n",
      "Configuración: [0, 1, 2, 3, 4], Solicitud: 2, Costo: 3\n",
      "Configuración: [0, 1, 2, 3, 4], Solicitud: 1, Costo: 2\n",
      "Configuración: [0, 1, 2, 3, 4], Solicitud: 0, Costo: 1\n",
      "Configuración: [0, 1, 2, 3, 4], Solicitud: 4, Costo: 5\n",
      "Configuración: [0, 1, 2, 3, 4], Solicitud: 3, Costo: 4\n",
      "Configuración: [0, 1, 2, 3, 4], Solicitud: 2, Costo: 3\n",
      "Configuración: [0, 1, 2, 3, 4], Solicitud: 1, Costo: 2\n",
      "Configuración: [0, 1, 2, 3, 4], Solicitud: 0, Costo: 1\n",
      "Configuración: [0, 1, 2, 3, 4], Solicitud: 4, Costo: 5\n",
      "Configuración: [0, 1, 2, 3, 4], Solicitud: 3, Costo: 4\n",
      "Configuración: [0, 1, 2, 3, 4], Solicitud: 2, Costo: 3\n",
      "Configuración: [0, 1, 2, 3, 4], Solicitud: 1, Costo: 2\n",
      "Configuración: [0, 1, 2, 3, 4], Solicitud: 0, Costo: 1\n",
      "Configuración: [0, 1, 2, 3, 4], Solicitud: 4, Costo: 5\n",
      "Configuración: [0, 1, 2, 3, 4], Solicitud: 3, Costo: 4\n",
      "Configuración: [0, 1, 2, 3, 4], Solicitud: 2, Costo: 3\n",
      "Configuración: [0, 1, 2, 3, 4], Solicitud: 1, Costo: 2\n",
      "Configuración: [0, 1, 2, 3, 4], Solicitud: 0, Costo: 1\n",
      "\n",
      "Costo total: 60\n"
     ]
    }
   ],
   "source": [
    "config = [0, 1, 2, 3, 4]\n",
    "n = 20\n",
    "print(\"Secuencia de Costo Máximo (IMTF)\")\n",
    "worst_sequence = secuencia_maxima(config, n)\n",
    "cost = imtf_cost(config, worst_sequence)   "
   ]
  }
 ],
 "metadata": {
  "kernelspec": {
   "display_name": "Python 3",
   "language": "python",
   "name": "python3"
  },
  "language_info": {
   "codemirror_mode": {
    "name": "ipython",
    "version": 3
   },
   "file_extension": ".py",
   "mimetype": "text/x-python",
   "name": "python",
   "nbconvert_exporter": "python",
   "pygments_lexer": "ipython3",
   "version": "3.11.8"
  }
 },
 "nbformat": 4,
 "nbformat_minor": 5
}
