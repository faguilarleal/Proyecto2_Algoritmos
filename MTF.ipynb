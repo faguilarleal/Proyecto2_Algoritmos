{
 "cells": [
  {
   "cell_type": "markdown",
   "id": "d1a68fb2",
   "metadata": {},
   "source": [
    "# Proyecto 2"
   ]
  },
  {
   "cell_type": "code",
   "execution_count": 1,
   "id": "be119d66",
   "metadata": {},
   "outputs": [
    {
     "name": "stdout",
     "output_type": "stream",
     "text": [
      "Lista               Solicitud Costo     Lista después\n",
      "[0, 1, 2, 3, 4]     0         1         [0, 1, 2, 3, 4]\n",
      "[0, 1, 2, 3, 4]     1         2         [1, 0, 2, 3, 4]\n",
      "[1, 0, 2, 3, 4]     2         3         [2, 1, 0, 3, 4]\n",
      "[2, 1, 0, 3, 4]     3         4         [3, 2, 1, 0, 4]\n",
      "[3, 2, 1, 0, 4]     4         5         [4, 3, 2, 1, 0]\n",
      "[4, 3, 2, 1, 0]     0         5         [0, 4, 3, 2, 1]\n",
      "[0, 4, 3, 2, 1]     1         5         [1, 0, 4, 3, 2]\n",
      "[1, 0, 4, 3, 2]     2         5         [2, 1, 0, 4, 3]\n",
      "[2, 1, 0, 4, 3]     3         5         [3, 2, 1, 0, 4]\n",
      "[3, 2, 1, 0, 4]     4         5         [4, 3, 2, 1, 0]\n",
      "[4, 3, 2, 1, 0]     0         5         [0, 4, 3, 2, 1]\n",
      "[0, 4, 3, 2, 1]     1         5         [1, 0, 4, 3, 2]\n",
      "[1, 0, 4, 3, 2]     2         5         [2, 1, 0, 4, 3]\n",
      "[2, 1, 0, 4, 3]     3         5         [3, 2, 1, 0, 4]\n",
      "[3, 2, 1, 0, 4]     4         5         [4, 3, 2, 1, 0]\n",
      "[4, 3, 2, 1, 0]     0         5         [0, 4, 3, 2, 1]\n",
      "[0, 4, 3, 2, 1]     1         5         [1, 0, 4, 3, 2]\n",
      "[1, 0, 4, 3, 2]     2         5         [2, 1, 0, 4, 3]\n",
      "[2, 1, 0, 4, 3]     3         5         [3, 2, 1, 0, 4]\n",
      "[3, 2, 1, 0, 4]     4         5         [4, 3, 2, 1, 0]\n",
      "\n",
      "Costo total de accesos: 90\n"
     ]
    }
   ],
   "source": [
    "def move_to_front(config_list, request_sequence):\n",
    "    total_cost = 0\n",
    "    print(f\"{'Lista':<20}{'Solicitud':<10}{'Costo':<10}{'Lista después'}\")\n",
    "    \n",
    "    for request in request_sequence:\n",
    "        index = config_list.index(request)  # Posición actual del elemento\n",
    "        cost = index + 1  \n",
    "        total_cost += cost\n",
    "        \n",
    "        print(f\"{str(config_list):<20}{request:<10}{cost:<10}\", end=\"\")\n",
    "        \n",
    "        config_list.pop(index)\n",
    "        config_list.insert(0, request)\n",
    "        \n",
    "        print(config_list)\n",
    "    \n",
    "    print(f\"\\nCosto total de accesos: {total_cost}\")\n",
    "\n",
    "# Datos del problema\n",
    "configuracion_inicial = [0, 1, 2, 3, 4]\n",
    "secuencia = [0, 1, 2, 3, 4] * 4  # Repite la secuencia 4 veces\n",
    "\n",
    "move_to_front(configuracion_inicial, secuencia)\n"
   ]
  },
  {
   "cell_type": "markdown",
   "id": "7cc2a9c2",
   "metadata": {},
   "source": [
    "### ¿Para qué secuencia de 20 solicitudes se obtiene el mínimo costo total de acceso utilizando el algoritmo MTF para la configuración 0, 1, 2, 3, 4? ¿Cuál sería ese costo total de acceso?\n",
    "\n"
   ]
  },
  {
   "cell_type": "markdown",
   "id": "28f7d281",
   "metadata": {},
   "source": [
    "### ¿Para qué secuencia de 20 solicitudes se obtiene el peor de los casos utilizando el algoritmo MTF para la configuración 0, 1, 2, 3, 4? ¿Cuál sería ese costo total de acceso?"
   ]
  }
 ],
 "metadata": {
  "kernelspec": {
   "display_name": "Python 3",
   "language": "python",
   "name": "python3"
  },
  "language_info": {
   "codemirror_mode": {
    "name": "ipython",
    "version": 3
   },
   "file_extension": ".py",
   "mimetype": "text/x-python",
   "name": "python",
   "nbconvert_exporter": "python",
   "pygments_lexer": "ipython3",
   "version": "3.11.8"
  }
 },
 "nbformat": 4,
 "nbformat_minor": 5
}
